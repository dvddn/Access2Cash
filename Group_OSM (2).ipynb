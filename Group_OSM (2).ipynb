{
 "cells": [
  {
   "cell_type": "markdown",
   "metadata": {},
   "source": [
    "# Group Interest Points"
   ]
  },
  {
   "cell_type": "markdown",
   "metadata": {},
   "source": [
    "### Prepare packages"
   ]
  },
  {
   "cell_type": "code",
   "execution_count": 1,
   "metadata": {},
   "outputs": [],
   "source": [
    "import s3fs\n",
    "fs = s3fs.S3FileSystem(anon=False)"
   ]
  },
  {
   "cell_type": "code",
   "execution_count": 2,
   "metadata": {},
   "outputs": [],
   "source": [
    "import boto3\n",
    "s3 = boto3.client(\"s3\")"
   ]
  },
  {
   "cell_type": "code",
   "execution_count": 9,
   "metadata": {},
   "outputs": [],
   "source": [
    "import pandas as pd\n",
    "import pyarrow.parquet as pq"
   ]
  },
  {
   "cell_type": "markdown",
   "metadata": {},
   "source": [
    "### Input data"
   ]
  },
  {
   "cell_type": "code",
   "execution_count": 54,
   "metadata": {},
   "outputs": [],
   "source": [
    "table_from_parquet = pq.ParquetDataset(\"s3://ecb-hackathon-202006-dbn-group1/data/OSM/InterestPointsFinal\",filesystem=fs).read().to_pandas()"
   ]
  },
  {
   "cell_type": "code",
   "execution_count": 71,
   "metadata": {},
   "outputs": [],
   "source": [
    "financials_from_parquet = pq.ParquetDataset(\"s3://ecb-hackathon-202006-dbn-group1/data/OSM/InterestPointsFinalFinance.parquet\",filesystem=fs).read().to_pandas()"
   ]
  },
  {
   "cell_type": "markdown",
   "metadata": {},
   "source": [
    "We decided to separate shops that are particularly big (malls and such) and those that sell very expensive items, are they are less linked to cash spending. <br>\n",
    "We also merge amenities and leisures, as we don't want to overcomplicate our model"
   ]
  },
  {
   "cell_type": "code",
   "execution_count": 29,
   "metadata": {},
   "outputs": [],
   "source": [
    "big_shops = ['department_store', 'general', 'mall', 'supermarket', 'wholesale', 'atv', 'car', 'boat', 'caravan', 'jetski', 'motorcycle', 'ski', 'snowmobiles', 'swimming_pool', 'trailer', 'tyres']"
   ]
  },
  {
   "cell_type": "code",
   "execution_count": 57,
   "metadata": {},
   "outputs": [],
   "source": [
    "table_from_parquet.loc[table_from_parquet[table_from_parquet.VALUE.apply(lambda x: x in big_shops)].index,'KEY'] = 'big_shop'"
   ]
  },
  {
   "cell_type": "code",
   "execution_count": 58,
   "metadata": {},
   "outputs": [],
   "source": [
    "table_from_parquet.loc[table_from_parquet[table_from_parquet.KEY=='leisure'].index,'KEY'] = 'amenity'"
   ]
  },
  {
   "cell_type": "markdown",
   "metadata": {},
   "source": [
    "### Compute and save (wide)"
   ]
  },
  {
   "cell_type": "code",
   "execution_count": 60,
   "metadata": {},
   "outputs": [],
   "source": [
    "IP_features = table_from_parquet.groupby(['KEY', 'NUTS_ID', 'NUTS_NAME']).COUNT.sum().reset_index()"
   ]
  },
  {
   "cell_type": "code",
   "execution_count": 61,
   "metadata": {},
   "outputs": [],
   "source": [
    "IP_features.to_csv(\"s3://ecb-hackathon-202006-dbn-group1/data/OSM/IP_features.csv\")"
   ]
  },
  {
   "cell_type": "code",
   "execution_count": 69,
   "metadata": {},
   "outputs": [],
   "source": [
    "IP_features_wide = IP_features.pivot(index = 'NUTS_ID', columns = 'KEY', values ='COUNT')"
   ]
  },
  {
   "cell_type": "code",
   "execution_count": 70,
   "metadata": {},
   "outputs": [],
   "source": [
    "IP_features_wide.to_csv(\"s3://ecb-hackathon-202006-dbn-group1/data/OSM/IP_features_wide.csv\")"
   ]
  },
  {
   "cell_type": "code",
   "execution_count": 73,
   "metadata": {},
   "outputs": [],
   "source": [
    "financials = financials_from_parquet.groupby(['NUTS_ID','VALUE']).COUNT.sum()"
   ]
  },
  {
   "cell_type": "code",
   "execution_count": 77,
   "metadata": {},
   "outputs": [],
   "source": [
    "financials_wide = financials.reset_index().pivot(index = 'NUTS_ID', columns = 'VALUE', values ='COUNT')"
   ]
  },
  {
   "cell_type": "code",
   "execution_count": 78,
   "metadata": {},
   "outputs": [],
   "source": [
    "financials_wide.to_csv(\"s3://ecb-hackathon-202006-dbn-group1/data/OSM/financials_features_wide.csv\")"
   ]
  }
 ],
 "metadata": {
  "kernelspec": {
   "display_name": "HackathonPy",
   "language": "python",
   "name": "hackathonpy"
  },
  "language_info": {
   "codemirror_mode": {
    "name": "ipython",
    "version": 3
   },
   "file_extension": ".py",
   "mimetype": "text/x-python",
   "name": "python",
   "nbconvert_exporter": "python",
   "pygments_lexer": "ipython3",
   "version": "3.6.10"
  }
 },
 "nbformat": 4,
 "nbformat_minor": 4
}
