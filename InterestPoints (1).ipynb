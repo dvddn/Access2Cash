{
 "cells": [
  {
   "cell_type": "markdown",
   "metadata": {},
   "source": [
    "# Extraction of Interest Points"
   ]
  },
  {
   "cell_type": "markdown",
   "metadata": {},
   "source": [
    "### Setup Spark and GeoSpark"
   ]
  },
  {
   "cell_type": "code",
   "execution_count": 39,
   "metadata": {
    "collapsed": true,
    "jupyter": {
     "outputs_hidden": true
    }
   },
   "outputs": [
    {
     "name": "stdout",
     "output_type": "stream",
     "text": [
      "Starting Spark application\n"
     ]
    },
    {
     "data": {
      "text/html": [
       "<table>\n",
       "<tr><th>ID</th><th>YARN Application ID</th><th>Kind</th><th>State</th><th>Spark UI</th><th>Driver log</th><th>Current session?</th></tr><tr><td>25</td><td>application_1592922764313_0026</td><td>pyspark</td><td>idle</td><td><a target=\"_blank\" href=\"http://ip-172-31-38-106.eu-central-1.compute.internal:20888/proxy/application_1592922764313_0026/\">Link</a></td><td><a target=\"_blank\" href=\"http://ip-172-31-34-149.eu-central-1.compute.internal:8042/node/containerlogs/container_1592922764313_0026_01_000001/livy\">Link</a></td><td>✔</td></tr></table>"
      ],
      "text/plain": [
       "<IPython.core.display.HTML object>"
      ]
     },
     "metadata": {},
     "output_type": "display_data"
    },
    {
     "data": {
      "application/vnd.jupyter.widget-view+json": {
       "model_id": "6040d028e2c342f28d86f00fd56e0efb",
       "version_major": 2,
       "version_minor": 0
      },
      "text/plain": [
       "FloatProgress(value=0.0, bar_style='info', description='Progress:', layout=Layout(height='25px', width='50%'),…"
      ]
     },
     "metadata": {},
     "output_type": "display_data"
    },
    {
     "name": "stdout",
     "output_type": "stream",
     "text": [
      "SparkSession available as 'spark'.\n"
     ]
    },
    {
     "data": {
      "text/html": [
       "Current session configs: <tt>{'conf': {'spark.jars': 's3a://ecb-hackathon-202006-dbn-shared/jars/geospark-1.3.1_2.11.jar,s3a://ecb-hackathon-202006-dbn-shared/jars/geo_wrapper_2.11-0.3.0.jar', 'spark.executor.memory': '2g', 'spark.driver.memory': '3g', 'spark.kryoserializer.buffer.max': '1g', 'geospark.global.index': 'false', 'geospark.global.indextype': 'rtree', 'geospark.join.gridtype': 'kdbtree', 'spark.serializer': 'org.apache.spark.serializer.KryoSerializer', 'spark.kryo.registrator': 'org.datasyslab.geospark.serde.GeoSparkKryoRegistrator'}, 'kind': 'pyspark'}</tt><br>"
      ],
      "text/plain": [
       "<IPython.core.display.HTML object>"
      ]
     },
     "metadata": {},
     "output_type": "display_data"
    },
    {
     "data": {
      "text/html": [
       "<table>\n",
       "<tr><th>ID</th><th>YARN Application ID</th><th>Kind</th><th>State</th><th>Spark UI</th><th>Driver log</th><th>Current session?</th></tr><tr><td>19</td><td>application_1592922764313_0020</td><td>pyspark</td><td>idle</td><td><a target=\"_blank\" href=\"http://ip-172-31-38-106.eu-central-1.compute.internal:20888/proxy/application_1592922764313_0020/\">Link</a></td><td><a target=\"_blank\" href=\"http://ip-172-31-43-211.eu-central-1.compute.internal:8042/node/containerlogs/container_1592922764313_0020_01_000001/livy\">Link</a></td><td></td></tr><tr><td>22</td><td>application_1592922764313_0023</td><td>pyspark</td><td>idle</td><td><a target=\"_blank\" href=\"http://ip-172-31-38-106.eu-central-1.compute.internal:20888/proxy/application_1592922764313_0023/\">Link</a></td><td><a target=\"_blank\" href=\"http://ip-172-31-43-211.eu-central-1.compute.internal:8042/node/containerlogs/container_1592922764313_0023_01_000002/livy\">Link</a></td><td></td></tr><tr><td>25</td><td>application_1592922764313_0026</td><td>pyspark</td><td>idle</td><td><a target=\"_blank\" href=\"http://ip-172-31-38-106.eu-central-1.compute.internal:20888/proxy/application_1592922764313_0026/\">Link</a></td><td><a target=\"_blank\" href=\"http://ip-172-31-34-149.eu-central-1.compute.internal:8042/node/containerlogs/container_1592922764313_0026_01_000001/livy\">Link</a></td><td>✔</td></tr></table>"
      ],
      "text/plain": [
       "<IPython.core.display.HTML object>"
      ]
     },
     "metadata": {},
     "output_type": "display_data"
    }
   ],
   "source": [
    "%%configure -f\n",
    "{\n",
    "    \"conf\": {\n",
    "        \"spark.jars\": \"s3a://ecb-hackathon-202006-dbn-shared/jars/geospark-1.3.1_2.11.jar,s3a://ecb-hackathon-202006-dbn-shared/jars/geo_wrapper_2.11-0.3.0.jar\",\n",
    "        \"spark.executor.memory\": \"2g\",\n",
    "        \"spark.driver.memory\": \"3g\",\n",
    "        \"spark.kryoserializer.buffer.max\":\"1g\",\n",
    "        \"geospark.global.index\":\"false\",\n",
    "        \"geospark.global.indextype\": \"rtree\",\n",
    "        \"geospark.join.gridtype\": \"kdbtree\",\n",
    "        \"spark.serializer\": \"org.apache.spark.serializer.KryoSerializer\",\n",
    "        \"spark.kryo.registrator\":\"org.datasyslab.geospark.serde.GeoSparkKryoRegistrator\"\n",
    "    }\n",
    "}\n"
   ]
  },
  {
   "cell_type": "code",
   "execution_count": 40,
   "metadata": {},
   "outputs": [
    {
     "data": {
      "application/vnd.jupyter.widget-view+json": {
       "model_id": "cd265573e6da49e48fd708ff2f046ab0",
       "version_major": 2,
       "version_minor": 0
      },
      "text/plain": [
       "FloatProgress(value=0.0, bar_style='info', description='Progress:', layout=Layout(height='25px', width='50%'),…"
      ]
     },
     "metadata": {},
     "output_type": "display_data"
    }
   ],
   "source": [
    "from pyspark.sql import SparkSession\n",
    "\n",
    "from geospark.utils.adapter import Adapter\n",
    "\n",
    "from geospark.register import GeoSparkRegistrator\n",
    "from geospark.utils.adapter import Adapter\n",
    "from geospark.core.spatialOperator import KNNQuery\n",
    "from geospark.core.formatMapper import GeoJsonReader\n",
    "\n",
    "from shapely.geometry import Point\n",
    "\n",
    "\n",
    "from geospark.register import GeoSparkRegistrator\n",
    "from geospark.core.enums import GridType\n",
    "from geospark.core.spatialOperator import JoinQuery\n",
    "\n",
    "from pyspark.sql.functions import explode\n"
   ]
  },
  {
   "cell_type": "code",
   "execution_count": 41,
   "metadata": {},
   "outputs": [
    {
     "data": {
      "application/vnd.jupyter.widget-view+json": {
       "model_id": "a5d25595f0c24e0d8e62850c8cc34459",
       "version_major": 2,
       "version_minor": 0
      },
      "text/plain": [
       "FloatProgress(value=0.0, bar_style='info', description='Progress:', layout=Layout(height='25px', width='50%'),…"
      ]
     },
     "metadata": {},
     "output_type": "display_data"
    },
    {
     "name": "stdout",
     "output_type": "stream",
     "text": [
      "True"
     ]
    }
   ],
   "source": [
    "GeoSparkRegistrator.registerAll(spark)\n"
   ]
  },
  {
   "cell_type": "markdown",
   "metadata": {},
   "source": [
    "### Read input files"
   ]
  },
  {
   "cell_type": "code",
   "execution_count": 42,
   "metadata": {},
   "outputs": [
    {
     "data": {
      "application/vnd.jupyter.widget-view+json": {
       "model_id": "42d064f04aa4447baa4a6d3c116b79b9",
       "version_major": 2,
       "version_minor": 0
      },
      "text/plain": [
       "FloatProgress(value=0.0, bar_style='info', description='Progress:', layout=Layout(height='25px', width='50%'),…"
      ]
     },
     "metadata": {},
     "output_type": "display_data"
    }
   ],
   "source": [
    "osmParquetDF = spark.read.parquet(\"s3a://ecb-hackathon-202006-dbn-shared/data/openstreetmap/\")\n"
   ]
  },
  {
   "cell_type": "markdown",
   "metadata": {},
   "source": [
    "OSM data is huge and most of it is not relevant for our challenge. <br>\n",
    "We explode the tags so that we can quickly filter based on useful Keys and Values and reduce the size of our operations. <br>\n",
    "At the same time, we transform the geometry so that we can later use a spatial join to aggregate our data at NUTS levels."
   ]
  },
  {
   "cell_type": "code",
   "execution_count": 43,
   "metadata": {},
   "outputs": [
    {
     "data": {
      "application/vnd.jupyter.widget-view+json": {
       "model_id": "6aa23ff9112d432a8b07bed48c38745b",
       "version_major": 2,
       "version_minor": 0
      },
      "text/plain": [
       "FloatProgress(value=0.0, bar_style='info', description='Progress:', layout=Layout(height='25px', width='50%'),…"
      ]
     },
     "metadata": {},
     "output_type": "display_data"
    }
   ],
   "source": [
    "osmParquetDF.createOrReplaceTempView(\"osmParquetDF\")"
   ]
  },
  {
   "cell_type": "code",
   "execution_count": 44,
   "metadata": {},
   "outputs": [
    {
     "data": {
      "application/vnd.jupyter.widget-view+json": {
       "model_id": "2428dc4ddc4c4c29a0ff310eaed1d063",
       "version_major": 2,
       "version_minor": 0
      },
      "text/plain": [
       "FloatProgress(value=0.0, bar_style='info', description='Progress:', layout=Layout(height='25px', width='50%'),…"
      ]
     },
     "metadata": {},
     "output_type": "display_data"
    }
   ],
   "source": [
    "# = osmParquetDF.select(\"id\", explode(\"map_tags\"), \"geometry\", \"geometry_3857\").where(\"size(map_tags)>0\")\n",
    "\n",
    "explode_osm_tags_df = spark.sql(\n",
    "    \"\"\"\n",
    "        SELECT id, explode(map_tags),geometry,geometry_3857 \n",
    "        FROM osmParquetDF\n",
    "        WHERE size(map_tags)>0\n",
    "    \"\"\"\n",
    ")\n",
    "explode_osm_tags_df.createOrReplaceTempView(\"explodeOSMTagsDF\")"
   ]
  },
  {
   "cell_type": "code",
   "execution_count": 45,
   "metadata": {},
   "outputs": [
    {
     "data": {
      "application/vnd.jupyter.widget-view+json": {
       "model_id": "f739f7d0527f4807811f3d408015fa15",
       "version_major": 2,
       "version_minor": 0
      },
      "text/plain": [
       "FloatProgress(value=0.0, bar_style='info', description='Progress:', layout=Layout(height='25px', width='50%'),…"
      ]
     },
     "metadata": {},
     "output_type": "display_data"
    }
   ],
   "source": [
    "#explode_osm_tags_df.select(\"id\", \"key\", \"value\", ST_GeomFromWKT(\"geometry\").alias(\"geom\"),\"geometry\", \"geometry_3857\").where(\"KEY in ('amenity', 'leisure', 'shop', 'tourism')\")\n",
    "\n",
    "\n",
    "tags = spark.sql(\n",
    "    \"\"\"\n",
    "        SELECT id, key, value,  ST_GeomFromWKT(geometry) as geom, geometry, geometry_3857\n",
    "        FROM explodeOSMTagsDF\n",
    "        WHERE KEY in ('amenity', 'leisure', 'shop', 'tourism')\n",
    "    \"\"\"\n",
    ")\n",
    "tags.createOrReplaceTempView(\"tags_df\")"
   ]
  },
  {
   "cell_type": "markdown",
   "metadata": {},
   "source": [
    "Now, a very useful cell: (too late to remove it, embrace the uselessness)"
   ]
  },
  {
   "cell_type": "code",
   "execution_count": 46,
   "metadata": {},
   "outputs": [
    {
     "data": {
      "application/vnd.jupyter.widget-view+json": {
       "model_id": "c94a3a862edb417cac18485103a5566b",
       "version_major": 2,
       "version_minor": 0
      },
      "text/plain": [
       "FloatProgress(value=0.0, bar_style='info', description='Progress:', layout=Layout(height='25px', width='50%'),…"
      ]
     },
     "metadata": {},
     "output_type": "display_data"
    }
   ],
   "source": [
    "ip = spark.sql(\"SELECT * FROM tags_df\")\n",
    "ip.createOrReplaceTempView(\"ipDF\")"
   ]
  },
  {
   "cell_type": "markdown",
   "metadata": {},
   "source": [
    "Little sanity check that I ran from time to time to be sure that I am using the correct data, and have an idea of the size of the whole thing."
   ]
  },
  {
   "cell_type": "code",
   "execution_count": 11,
   "metadata": {},
   "outputs": [
    {
     "data": {
      "application/vnd.jupyter.widget-view+json": {
       "model_id": "",
       "version_major": 2,
       "version_minor": 0
      },
      "text/plain": [
       "FloatProgress(value=0.0, bar_style='info', description='Progress:', layout=Layout(height='25px', width='50%'),…"
      ]
     },
     "metadata": {},
     "output_type": "display_data"
    },
    {
     "name": "stdout",
     "output_type": "stream",
     "text": [
      "10096310"
     ]
    }
   ],
   "source": [
    "ip.distinct().count()"
   ]
  },
  {
   "cell_type": "markdown",
   "metadata": {},
   "source": [
    "### Define Interest Points\n",
    "Based on OSM.wiki, we can see what are the most common groups (KEYS) and which are the values (Interest Points) tied to them. <br>\n",
    "Out of all, we keep those that we feel are somehow directly related to cash spending. <br>\n",
    "This includes tags <b>shop</b>, <b>amenity</b>, <b>leisure</b> and <b>tourism</b><br>\n",
    "However, we can still filer down to the most important values. This allows us to filter out a lot of rows (for example, amenities such as parkings, fountains, etc.) that we deem would not directly generate a cash demand. In particular, we decided to keep only interest points that generate cash demand because they involve payments (restaurants, bars, hotels, etc.) and leaving out points that might generate cash demand because they create aggregations of people (social centers, churches, etc.). <br>\n",
    "Finally, atms and banks are separated as they might instead be used to define cash accessibility instead."
   ]
  },
  {
   "cell_type": "code",
   "execution_count": 65,
   "metadata": {},
   "outputs": [
    {
     "data": {
      "application/vnd.jupyter.widget-view+json": {
       "model_id": "a6aae99a889f413ca3d5cb90aa25fb78",
       "version_major": 2,
       "version_minor": 0
      },
      "text/plain": [
       "FloatProgress(value=0.0, bar_style='info', description='Progress:', layout=Layout(height='25px', width='50%'),…"
      ]
     },
     "metadata": {},
     "output_type": "display_data"
    }
   ],
   "source": [
    "amenities_tags = ['bar', 'bbq', 'biergarten', 'cafe', 'fast_food', 'food_court', 'pub', 'restaurant', 'brothel', 'casino', 'cinema', 'gambling', 'nightclub', 'stripclub', 'theatre', 'swingerclub', 'planetarium']\n",
    "leisure_tags = ['adult_gaming_centre', 'amusement_arcade', 'bowling_alley', 'dance', 'miniature_golf', 'stadium', 'swimming_pool', 'water_park']\n",
    "\n",
    "tourism_tags = ['aquarium', 'camp_site', 'gallery', 'hostel', 'hotel', 'motel', 'museum', 'theme_park', 'zoo']\n",
    "\n",
    "finance = ['atm', 'bank']"
   ]
  },
  {
   "cell_type": "code",
   "execution_count": 66,
   "metadata": {},
   "outputs": [
    {
     "data": {
      "application/vnd.jupyter.widget-view+json": {
       "model_id": "73d9d8ba0d4946e2a06f239b825af2de",
       "version_major": 2,
       "version_minor": 0
      },
      "text/plain": [
       "FloatProgress(value=0.0, bar_style='info', description='Progress:', layout=Layout(height='25px', width='50%'),…"
      ]
     },
     "metadata": {},
     "output_type": "display_data"
    }
   ],
   "source": [
    "amenities = ip.filter((ip['key']=='amenity')&(ip['value'].isin(amenities_tags)))\n",
    "leisures = ip.filter((ip['key']=='leisure')&(ip['value'].isin(leisure_tags)))\n",
    "tourism = ip.filter((ip['key']=='tourism')&(ip['value'].isin(tourism_tags)))\n",
    "shops = ip.filter((ip['key']=='shop'))\n",
    "financedf = ip.filter((ip['key']=='amenity')&(ip['value'].isin(finance)))"
   ]
  },
  {
   "cell_type": "code",
   "execution_count": 67,
   "metadata": {},
   "outputs": [
    {
     "data": {
      "application/vnd.jupyter.widget-view+json": {
       "model_id": "f740783446414d15836e65d2a979738a",
       "version_major": 2,
       "version_minor": 0
      },
      "text/plain": [
       "FloatProgress(value=0.0, bar_style='info', description='Progress:', layout=Layout(height='25px', width='50%'),…"
      ]
     },
     "metadata": {},
     "output_type": "display_data"
    }
   ],
   "source": [
    "amenities.createOrReplaceTempView(\"amenitiesDF\")\n",
    "leisures.createOrReplaceTempView(\"leisuresDF\")\n",
    "tourism.createOrReplaceTempView(\"tourismDF\")\n",
    "shops.createOrReplaceTempView(\"shopsDF\")\n",
    "financedf.createOrReplaceTempView(\"financeDF\")"
   ]
  },
  {
   "cell_type": "code",
   "execution_count": 68,
   "metadata": {},
   "outputs": [
    {
     "data": {
      "application/vnd.jupyter.widget-view+json": {
       "model_id": "29b9dcecab20442b86f893e142bdc5ba",
       "version_major": 2,
       "version_minor": 0
      },
      "text/plain": [
       "FloatProgress(value=0.0, bar_style='info', description='Progress:', layout=Layout(height='25px', width='50%'),…"
      ]
     },
     "metadata": {},
     "output_type": "display_data"
    }
   ],
   "source": [
    "total = leisures.union(tourism).union(shops).union(amenities)\n",
    "total.createOrReplaceTempView(\"totalDF\")"
   ]
  },
  {
   "cell_type": "markdown",
   "metadata": {},
   "source": [
    "### Prepare NUTS data \n",
    "We use NUTS2, as it's the one we are going to use in the modeling, as NUTS3 has a lot of missing data in SUCH. <br>\n",
    "20M granulariy gives us some misclassified points, but it's not a major difference."
   ]
  },
  {
   "cell_type": "code",
   "execution_count": 70,
   "metadata": {},
   "outputs": [
    {
     "data": {
      "application/vnd.jupyter.widget-view+json": {
       "model_id": "fc4ac1268262433b994e9da6c1f0b974",
       "version_major": 2,
       "version_minor": 0
      },
      "text/plain": [
       "FloatProgress(value=0.0, bar_style='info', description='Progress:', layout=Layout(height='25px', width='50%'),…"
      ]
     },
     "metadata": {},
     "output_type": "display_data"
    }
   ],
   "source": [
    "projection=\"4326\"\n",
    "level=\"_LEVL_2\"\n",
    "eurostatfile=\"NUTS2016-20M/NUTS_RG_20M_2016_\"+projection+level\n",
    "nutssourcefile=\"s3a://ecb-hackathon-202006-dbn-shared/data/eurostat/nuts/\"+eurostatfile+\".geojsonlines\""
   ]
  },
  {
   "cell_type": "code",
   "execution_count": 71,
   "metadata": {},
   "outputs": [
    {
     "data": {
      "application/vnd.jupyter.widget-view+json": {
       "model_id": "74d6717a2fce4df5b503e4dcce4b1365",
       "version_major": 2,
       "version_minor": 0
      },
      "text/plain": [
       "FloatProgress(value=0.0, bar_style='info', description='Progress:', layout=Layout(height='25px', width='50%'),…"
      ]
     },
     "metadata": {},
     "output_type": "display_data"
    }
   ],
   "source": [
    "allowTopologyInvalidGeometries = True\n",
    "skipSyntaxInvalidGeometries = True "
   ]
  },
  {
   "cell_type": "code",
   "execution_count": 72,
   "metadata": {},
   "outputs": [
    {
     "data": {
      "application/vnd.jupyter.widget-view+json": {
       "model_id": "e07077a8c23c4c3c997248d26ce7b089",
       "version_major": 2,
       "version_minor": 0
      },
      "text/plain": [
       "FloatProgress(value=0.0, bar_style='info', description='Progress:', layout=Layout(height='25px', width='50%'),…"
      ]
     },
     "metadata": {},
     "output_type": "display_data"
    }
   ],
   "source": [
    "nutsRegionsSpatialRDD = GeoJsonReader.readToGeometryRDD(spark.sparkContext,nutssourcefile ,allowTopologyInvalidGeometries,skipSyntaxInvalidGeometries)\n",
    "nutsRegionsSpatialRDD.analyze()\n",
    "nutsoriginal_df = Adapter.toDf(nutsRegionsSpatialRDD, spark)"
   ]
  },
  {
   "cell_type": "code",
   "execution_count": 33,
   "metadata": {},
   "outputs": [
    {
     "data": {
      "application/vnd.jupyter.widget-view+json": {
       "model_id": "a7e0c304d5c24912a586721b674168ba",
       "version_major": 2,
       "version_minor": 0
      },
      "text/plain": [
       "FloatProgress(value=0.0, bar_style='info', description='Progress:', layout=Layout(height='25px', width='50%'),…"
      ]
     },
     "metadata": {},
     "output_type": "display_data"
    },
    {
     "name": "stdout",
     "output_type": "stream",
     "text": [
      "root\n",
      " |-- geometry: string (nullable = true)\n",
      " |-- id: string (nullable = true)\n",
      " |-- COAST_TYPE: string (nullable = true)\n",
      " |-- MOUNT_TYPE: string (nullable = true)\n",
      " |-- CNTR_CODE: string (nullable = true)\n",
      " |-- FID: string (nullable = true)\n",
      " |-- NUTS_ID: string (nullable = true)\n",
      " |-- NUTS_NAME: string (nullable = true)\n",
      " |-- LEVL_CODE: string (nullable = true)\n",
      " |-- URBN_TYPE: string (nullable = true)"
     ]
    }
   ],
   "source": [
    "nutsoriginal_df.printSchema()"
   ]
  },
  {
   "cell_type": "code",
   "execution_count": 73,
   "metadata": {},
   "outputs": [
    {
     "data": {
      "application/vnd.jupyter.widget-view+json": {
       "model_id": "0255dbe977eb4b4ca7fdebc19b0383a7",
       "version_major": 2,
       "version_minor": 0
      },
      "text/plain": [
       "FloatProgress(value=0.0, bar_style='info', description='Progress:', layout=Layout(height='25px', width='50%'),…"
      ]
     },
     "metadata": {},
     "output_type": "display_data"
    }
   ],
   "source": [
    "nutsoriginal_df.createOrReplaceTempView(\"nutsOriginalDF\")\n"
   ]
  },
  {
   "cell_type": "code",
   "execution_count": 74,
   "metadata": {},
   "outputs": [
    {
     "data": {
      "application/vnd.jupyter.widget-view+json": {
       "model_id": "06592804ed004d30bbf161b75292ae6d",
       "version_major": 2,
       "version_minor": 0
      },
      "text/plain": [
       "FloatProgress(value=0.0, bar_style='info', description='Progress:', layout=Layout(height='25px', width='50%'),…"
      ]
     },
     "metadata": {},
     "output_type": "display_data"
    }
   ],
   "source": [
    "# convert the geometry\n",
    "nuts_df = spark.sql(\n",
    "    \"\"\"\n",
    "        SELECT ST_GeomFromWKT(geometry) as geom,NUTS_ID,LEVL_CODE,NUTS_NAME \n",
    "        FROM nutsOriginalDF\n",
    "    \"\"\"\n",
    ")        \n",
    "nuts_df.createOrReplaceTempView(\"nutsDF\")"
   ]
  },
  {
   "cell_type": "markdown",
   "metadata": {},
   "source": [
    "### Join Interest Points and Regions"
   ]
  },
  {
   "cell_type": "code",
   "execution_count": 75,
   "metadata": {},
   "outputs": [
    {
     "data": {
      "application/vnd.jupyter.widget-view+json": {
       "model_id": "c450224611c04ffeb35f1d0fe50683a5",
       "version_major": 2,
       "version_minor": 0
      },
      "text/plain": [
       "FloatProgress(value=0.0, bar_style='info', description='Progress:', layout=Layout(height='25px', width='50%'),…"
      ]
     },
     "metadata": {},
     "output_type": "display_data"
    }
   ],
   "source": [
    "spatialjoin_df = spark.sql(\n",
    "    \"\"\"\n",
    "        SELECT totalDF.id,totalDF.key,totalDF.value,nutsDF.NUTS_ID,nutsdf.LEVL_CODE,nutsdf.NUTS_NAME,totalDF.geometry\n",
    "        FROM nutsDF,totalDF\n",
    "        WHERE ST_Intersects(totalDF.geom,nutsDF.geom)\n",
    "    \"\"\"\n",
    ")\n",
    "spatialjoin_df.createOrReplaceTempView(\"spatialJoinDF\")\n",
    "\n",
    "spatialjoin_finance = spark.sql(\n",
    "    \"\"\"\n",
    "        SELECT financeDF.id,financeDF.key,totalDF.value,nutsDF.NUTS_ID,nutsdf.LEVL_CODE,nutsdf.NUTS_NAME,totalDF.geometry\n",
    "        FROM nutsDF,financeDF\n",
    "        WHERE ST_Intersects(financeDF.geom,nutsDF.geom)\n",
    "    \"\"\"\n",
    ")\n",
    "spatialjoin_df.createOrReplaceTempView(\"spatialJoinFinanceDF\")\n"
   ]
  },
  {
   "cell_type": "code",
   "execution_count": 76,
   "metadata": {},
   "outputs": [
    {
     "data": {
      "application/vnd.jupyter.widget-view+json": {
       "model_id": "66e1b88379ba4b2ea247e7c7d22a3c6a",
       "version_major": 2,
       "version_minor": 0
      },
      "text/plain": [
       "FloatProgress(value=0.0, bar_style='info', description='Progress:', layout=Layout(height='25px', width='50%'),…"
      ]
     },
     "metadata": {},
     "output_type": "display_data"
    }
   ],
   "source": [
    "final = spark.sql(\n",
    "    \"\"\"SELECT COUNT(DISTINCT ID) AS COUNT, KEY, VALUE, NUTS_ID, NUTS_NAME\n",
    "        FROM spatialJoinDF\n",
    "        GROUP BY NUTS_ID, NUTS_NAME, KEY, VALUE\n",
    "    \"\"\"\n",
    ")\n",
    "final.createOrReplaceTempView(\"finalDF\")\n",
    "\n",
    "final_finance = spark.sql(\n",
    "    \"\"\"SELECT COUNT(DISTINCT ID) AS COUNT, KEY, VALUE, NUTS_ID, NUTS_NAME\n",
    "        FROM spatialJoinFinanceDF\n",
    "        GROUP BY NUTS_ID, NUTS_NAME, KEY, VALUE\n",
    "    \"\"\"\n",
    ")\n",
    "final.createOrReplaceTempView(\"finalFinanceDF\")"
   ]
  },
  {
   "cell_type": "code",
   "execution_count": 77,
   "metadata": {},
   "outputs": [
    {
     "data": {
      "application/vnd.jupyter.widget-view+json": {
       "model_id": "5acd912a019443a489f7dab77b8d6ebf",
       "version_major": 2,
       "version_minor": 0
      },
      "text/plain": [
       "FloatProgress(value=0.0, bar_style='info', description='Progress:', layout=Layout(height='25px', width='50%'),…"
      ]
     },
     "metadata": {},
     "output_type": "display_data"
    }
   ],
   "source": [
    "#PD_FINAL_Finance = final_finance.toPandas()"
   ]
  },
  {
   "cell_type": "code",
   "execution_count": 80,
   "metadata": {},
   "outputs": [
    {
     "data": {
      "application/vnd.jupyter.widget-view+json": {
       "model_id": "6a045211f69f4f388df28527052ac65c",
       "version_major": 2,
       "version_minor": 0
      },
      "text/plain": [
       "FloatProgress(value=0.0, bar_style='info', description='Progress:', layout=Layout(height='25px', width='50%'),…"
      ]
     },
     "metadata": {},
     "output_type": "display_data"
    },
    {
     "name": "stdout",
     "output_type": "stream",
     "text": [
      "array(['atm', 'bank'], dtype=object)"
     ]
    }
   ],
   "source": [
    "#PD_FINAL = final.toPandas()"
   ]
  },
  {
   "cell_type": "markdown",
   "metadata": {},
   "source": [
    "### Execute computations and save"
   ]
  },
  {
   "cell_type": "code",
   "execution_count": 83,
   "metadata": {},
   "outputs": [
    {
     "data": {
      "application/vnd.jupyter.widget-view+json": {
       "model_id": "fd3b0c03ff7343a296b816b3dee4f136",
       "version_major": 2,
       "version_minor": 0
      },
      "text/plain": [
       "FloatProgress(value=0.0, bar_style='info', description='Progress:', layout=Layout(height='25px', width='50%'),…"
      ]
     },
     "metadata": {},
     "output_type": "display_data"
    }
   ],
   "source": [
    "final.write.format(\"parquet\").save(\"s3a://ecb-hackathon-202006-dbn-group1/data/OSM/InterestPointsFinal.parquet\")"
   ]
  },
  {
   "cell_type": "code",
   "execution_count": null,
   "metadata": {},
   "outputs": [],
   "source": [
    "final_finance.write.format(\"parquet\").save(\"s3a://ecb-hackathon-202006-dbn-group1/data/OSM/InterestPointsFinalFinance.parquet\")"
   ]
  }
 ],
 "metadata": {
  "kernelspec": {
   "display_name": "Sparkmagic (PySpark)",
   "language": "",
   "name": "pysparkkernel"
  },
  "language_info": {
   "codemirror_mode": {
    "name": "python",
    "version": 3
   },
   "mimetype": "text/x-python",
   "name": "pyspark",
   "pygments_lexer": "python3"
  }
 },
 "nbformat": 4,
 "nbformat_minor": 4
}
